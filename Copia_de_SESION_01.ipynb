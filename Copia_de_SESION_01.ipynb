{
  "nbformat": 4,
  "nbformat_minor": 0,
  "metadata": {
    "colab": {
      "provenance": [],
      "include_colab_link": true
    },
    "kernelspec": {
      "name": "python3",
      "display_name": "Python 3"
    }
  },
  "cells": [
    {
      "cell_type": "markdown",
      "metadata": {
        "id": "view-in-github",
        "colab_type": "text"
      },
      "source": [
        "<a href=\"https://colab.research.google.com/github/jeffan15/ccomp2-2.2-2023/blob/main/Copia_de_SESION_01.ipynb\" target=\"_parent\"><img src=\"https://colab.research.google.com/assets/colab-badge.svg\" alt=\"Open In Colab\"/></a>"
      ]
    },
    {
      "cell_type": "markdown",
      "source": [
        "<img src=\"https://drive.google.com/uc?export=view&id=1ixeSQe4-IjSpN6IqL8Ae3fMU9sxUGJIu\" width=\"1200\">\n"
      ],
      "metadata": {
        "id": "q2ms9ds1JWuZ"
      }
    },
    {
      "cell_type": "markdown",
      "source": [
        "\n",
        "\n",
        "<center><img src=\"https://drive.google.com/uc?export=view&id=1gL9hrIzo5GsuL3bDCqiLhvk946za_zX5\" width=\"300\">\n",
        "\n",
        "\n",
        "\n"
      ],
      "metadata": {
        "id": "Gb58rFO4VReV"
      }
    },
    {
      "cell_type": "markdown",
      "source": [
        "# <center>  $Primera \\ Unidad$\n",
        "\n",
        "\n",
        "\n",
        "### <center> $Teoría \\ de \\ N\\acute{u}meros$"
      ],
      "metadata": {
        "id": "i4FtX5ikIdfu"
      }
    },
    {
      "cell_type": "markdown",
      "source": [
        "**Sesión de Laboratorio 01 :** Numeros enteros y divisibilidad\n",
        "\n",
        "**Profesor:** Sergio Moisés Aquise Escobedo\n",
        "\n",
        "**Alumno:** Jeffry André Sergio Flores Velásquez"
      ],
      "metadata": {
        "id": "4oOZuHrvJZuJ"
      }
    },
    {
      "cell_type": "markdown",
      "source": [
        "---"
      ],
      "metadata": {
        "id": "L6bJsNMyJmke"
      }
    },
    {
      "cell_type": "markdown",
      "source": [
        "**I.\tObjetivos**\n",
        "\n",
        "\n",
        "* Manipular los operadores del lenguaje Phyton\n",
        "* Distinguir y operar con distintos tipos de variable\n",
        "* Utilizar Funciones básicas\n",
        "\n",
        "\n",
        "**II. Contenido teórico**\n",
        "\n",
        "* Operadores aritméticos\n",
        "* Operadores lógicos\n",
        "* operadores de relación\n",
        "* Funciones matemáticas\n",
        "* Tipos de variable\n",
        "* Operaciones con vectores\n",
        "* Graficas de una función\n",
        "\n",
        "**III. Equipos y materiales**\n",
        "\n",
        "* Equipos y dispositivos: Computador personal\n",
        "\n",
        "* Software: Phyton, Google Colab\n",
        "\n",
        "\n",
        "**IV. Actividades**\n",
        "\n",
        "* Manipular los operadores\n",
        "* Graficar una función"
      ],
      "metadata": {
        "id": "2_WIqORIbBCC"
      }
    },
    {
      "cell_type": "markdown",
      "source": [
        "---"
      ],
      "metadata": {
        "id": "pZnvMdmxdsSB"
      }
    },
    {
      "cell_type": "markdown",
      "source": [
        "## **Operadores aritméticos**\n",
        "\n",
        "**Suma:** +\n",
        "\n",
        "**Resta:** -\n",
        "\n",
        "**Producto:** *\n",
        "\n",
        "**Cociente:** /\n",
        "\n",
        "**Potencia:** **\n",
        "\n",
        "## **Operadores  lógicos y de relación**\n",
        "\n",
        "**Igual:** ==\n",
        "\n",
        "**Diferente:** !=\n",
        "\n",
        "**El conectivo ∧:**  &\n",
        "\n",
        "**El conectivo ∨:**  |\n",
        "\n",
        "<  ;  > ;  <=  ;  >=\n",
        "\n",
        "## **Funciones matemáticas**\n",
        "\n",
        "**Modulo:** %\n",
        "\n",
        "**Máximo entero:**  math.floor(x)\n"
      ],
      "metadata": {
        "id": "MeR5JNkRMxwU"
      }
    },
    {
      "cell_type": "markdown",
      "source": [
        "---\n",
        "---"
      ],
      "metadata": {
        "id": "m0boXKKAMz4C"
      }
    },
    {
      "cell_type": "markdown",
      "source": [
        "### **Algoritmo de la división**\n",
        "\n",
        "Sean  $a,b \\in Z$    con  $b>0$ . Existen  $q,r \\in Z$   unicos tales que     \n",
        "\n",
        "$$a =  bq +r ,   \\     0 \\leq r< b$$\n",
        "\n",
        "El entero $q$ se llama cociente y el entero $r$ es el residuo de dividir $a$ entre $b$\n",
        "\n"
      ],
      "metadata": {
        "id": "UhhxLFezsLRM"
      }
    },
    {
      "cell_type": "markdown",
      "source": [
        "---\n",
        "---"
      ],
      "metadata": {
        "id": "qXhTX40Esff5"
      }
    },
    {
      "cell_type": "markdown",
      "source": [
        "### **Máximo entero**"
      ],
      "metadata": {
        "id": "UtDfLsnjoyz-"
      }
    },
    {
      "cell_type": "markdown",
      "source": [
        "**Ejemplo**"
      ],
      "metadata": {
        "id": "Wptf3s2mqJ3M"
      }
    },
    {
      "cell_type": "code",
      "source": [
        "a=17\n",
        "b=3\n",
        "a/b\n"
      ],
      "metadata": {
        "colab": {
          "base_uri": "https://localhost:8080/"
        },
        "id": "s9YRq3QBoyLL",
        "outputId": "56c2ee9c-f6d8-47c9-c2e4-000486e0fe16"
      },
      "execution_count": null,
      "outputs": [
        {
          "output_type": "execute_result",
          "data": {
            "text/plain": [
              "5.666666666666667"
            ]
          },
          "metadata": {},
          "execution_count": 2
        }
      ]
    },
    {
      "cell_type": "code",
      "source": [
        "import math"
      ],
      "metadata": {
        "id": "AAfqUeb8pmRk"
      },
      "execution_count": null,
      "outputs": []
    },
    {
      "cell_type": "code",
      "source": [
        "\n",
        "math.floor(a/b)"
      ],
      "metadata": {
        "colab": {
          "base_uri": "https://localhost:8080/"
        },
        "id": "Nj3fx-qLoyOn",
        "outputId": "428b0083-7f9d-4532-bccd-d707c920f330"
      },
      "execution_count": null,
      "outputs": [
        {
          "output_type": "execute_result",
          "data": {
            "text/plain": [
              "5"
            ]
          },
          "metadata": {},
          "execution_count": 9
        }
      ]
    },
    {
      "cell_type": "code",
      "source": [
        "q=math.floor(a/b)\n",
        "print('q=',q)"
      ],
      "metadata": {
        "colab": {
          "base_uri": "https://localhost:8080/"
        },
        "id": "f-pNcCowqJXI",
        "outputId": "84bf3d51-dfe9-4d47-c88a-1013afeb525d"
      },
      "execution_count": null,
      "outputs": [
        {
          "output_type": "stream",
          "name": "stdout",
          "text": [
            "q= 5\n"
          ]
        }
      ]
    },
    {
      "cell_type": "markdown",
      "source": [
        "## **Resto de la división**"
      ],
      "metadata": {
        "id": "wcBIdpAS1dHq"
      }
    },
    {
      "cell_type": "code",
      "source": [
        "a=17\n",
        "b=3\n",
        "a%b"
      ],
      "metadata": {
        "colab": {
          "base_uri": "https://localhost:8080/"
        },
        "id": "bQ6C68l9p9Pw",
        "outputId": "68f38d69-fbd3-419f-f33b-75e56a712f14"
      },
      "execution_count": null,
      "outputs": [
        {
          "output_type": "execute_result",
          "data": {
            "text/plain": [
              "2"
            ]
          },
          "metadata": {},
          "execution_count": 11
        }
      ]
    },
    {
      "cell_type": "code",
      "source": [
        "r=a%b\n",
        "print('r=',r)"
      ],
      "metadata": {
        "colab": {
          "base_uri": "https://localhost:8080/"
        },
        "id": "JO5x2RpeqcYq",
        "outputId": "2a704dbf-a272-4b4f-e3ce-188620f71a1a"
      },
      "execution_count": null,
      "outputs": [
        {
          "output_type": "stream",
          "name": "stdout",
          "text": [
            "r= 2\n"
          ]
        }
      ]
    },
    {
      "cell_type": "markdown",
      "source": [
        "### **Algoritmo de la división**"
      ],
      "metadata": {
        "id": "TfWdEcvhqoA6"
      }
    },
    {
      "cell_type": "markdown",
      "source": [
        "\n",
        "$$a=bq+r , \\\\  0 \\leq r < b$$"
      ],
      "metadata": {
        "id": "7vXMa0HDqo6S"
      }
    },
    {
      "cell_type": "markdown",
      "source": [
        " **Ejemplo:** Dados los numeros $a=17$ y $b=3$ hallar su cociente y residuo al aplicar el algoritmo de la division"
      ],
      "metadata": {
        "id": "HsSEXo0ask3E"
      }
    },
    {
      "cell_type": "code",
      "source": [
        "import math\n",
        "a=85\n",
        "b=21\n",
        "q=math.floor(a/b)\n",
        "r=a%b\n",
        "print('q=',q)\n",
        "print('r=',r)"
      ],
      "metadata": {
        "id": "rJYXCggeqoKe",
        "colab": {
          "base_uri": "https://localhost:8080/"
        },
        "outputId": "1e4d1111-1392-475b-fa72-11eaf9099720"
      },
      "execution_count": null,
      "outputs": [
        {
          "output_type": "stream",
          "name": "stdout",
          "text": [
            "q= 4\n",
            "r= 1\n"
          ]
        }
      ]
    },
    {
      "cell_type": "markdown",
      "source": [
        "### **Creación de funciones y grafico de funciones**"
      ],
      "metadata": {
        "id": "wkvF2g9Rt88s"
      }
    },
    {
      "cell_type": "markdown",
      "source": [
        "**Algunas operaciones y comandos**"
      ],
      "metadata": {
        "id": "0CJF_MVsqt39"
      }
    },
    {
      "cell_type": "code",
      "metadata": {
        "id": "Cmeeuza_m1c0",
        "colab": {
          "base_uri": "https://localhost:8080/"
        },
        "outputId": "9721448f-318a-4df3-8cfd-049b788a632d"
      },
      "source": [
        "x=1\n",
        "x=x+3\n",
        "print(x)"
      ],
      "execution_count": null,
      "outputs": [
        {
          "output_type": "stream",
          "name": "stdout",
          "text": [
            "4\n"
          ]
        }
      ]
    },
    {
      "cell_type": "markdown",
      "source": [
        "**Creación de funciones**"
      ],
      "metadata": {
        "id": "o0yONr1Qufrz"
      }
    },
    {
      "cell_type": "markdown",
      "source": [
        "**Ejemplo:** Crear la función suma de dos numeros"
      ],
      "metadata": {
        "id": "dpKBn_JYuMlJ"
      }
    },
    {
      "cell_type": "code",
      "source": [
        "def  suma2(x,y):\n",
        "\n",
        "    resultado=x+y\n",
        "\n",
        "    return resultado"
      ],
      "metadata": {
        "id": "r5xFCTOC71Lr"
      },
      "execution_count": null,
      "outputs": []
    },
    {
      "cell_type": "code",
      "source": [
        "z=suma2(25,13)\n",
        "print(z)"
      ],
      "metadata": {
        "colab": {
          "base_uri": "https://localhost:8080/"
        },
        "id": "a2ft5Tjr75Q3",
        "outputId": "f2fdfd27-a4b7-4f11-afde-98ab8b58109a"
      },
      "execution_count": null,
      "outputs": [
        {
          "output_type": "stream",
          "name": "stdout",
          "text": [
            "38\n"
          ]
        }
      ]
    },
    {
      "cell_type": "markdown",
      "source": [
        "**Ejemplo:** Crear la función que permita hallar el área lateral de una caja rectangular de lados $x,y,z$"
      ],
      "metadata": {
        "id": "Ewj1rzb9YXV7"
      }
    },
    {
      "cell_type": "code",
      "source": [
        "def area(x,y,z):\n",
        "  area=2*(x*y+y*z+x*z)\n",
        "  return area"
      ],
      "metadata": {
        "id": "d_XuwKR8YXgu"
      },
      "execution_count": null,
      "outputs": []
    },
    {
      "cell_type": "code",
      "source": [
        "a=area(2,5,4)\n",
        "print(a)"
      ],
      "metadata": {
        "id": "qo5njM12Z46e",
        "colab": {
          "base_uri": "https://localhost:8080/"
        },
        "outputId": "f09c3244-4d62-48e7-a1cb-6f6e7d9bfc73"
      },
      "execution_count": null,
      "outputs": [
        {
          "output_type": "stream",
          "name": "stdout",
          "text": [
            "76\n"
          ]
        }
      ]
    },
    {
      "cell_type": "markdown",
      "source": [
        "**Grafico de funciones**"
      ],
      "metadata": {
        "id": "5VdImo2iup1q"
      }
    },
    {
      "cell_type": "markdown",
      "source": [
        " **Ejemplos** Grafica de funciones"
      ],
      "metadata": {
        "id": "UMCrUI9t7lZ_"
      }
    },
    {
      "cell_type": "code",
      "source": [
        "import numpy as np\n",
        "import matplotlib.pyplot as plt\n",
        "\n",
        "x = np.arange(0, 30, 0.1)\n",
        "y=x+3\n",
        "#y=np.sin(x)*x\n",
        "plt.plot(x,y,\"r\")\n",
        "plt.plot(x,y,\"r:\")\n",
        "plt.show()"
      ],
      "metadata": {
        "colab": {
          "base_uri": "https://localhost:8080/",
          "height": 430
        },
        "id": "lQ42o85B79y_",
        "outputId": "9cd3b218-b591-4636-aec6-63f7433cd016"
      },
      "execution_count": null,
      "outputs": [
        {
          "output_type": "display_data",
          "data": {
            "text/plain": [
              "<Figure size 640x480 with 1 Axes>"
            ],
            "image/png": "[encoded data removed]"
          },
          "metadata": {}
        }
      ]
    },
    {
      "cell_type": "code",
      "source": [
        "import numpy as np\n",
        "import matplotlib.pyplot as plt\n"
      ],
      "metadata": {
        "id": "-6Qz31SPcMd_"
      },
      "execution_count": null,
      "outputs": []
    },
    {
      "cell_type": "markdown",
      "source": [
        "**Ejemplos** Operadores y funciones matemáticas"
      ],
      "metadata": {
        "id": "Cm-sonp7tHBA"
      }
    },
    {
      "cell_type": "code",
      "source": [
        "np.sqrt(3)\n"
      ],
      "metadata": {
        "colab": {
          "base_uri": "https://localhost:8080/"
        },
        "id": "bCR-Vm--civt",
        "outputId": "d811d08d-6451-4f07-ace5-4aebd3273095"
      },
      "execution_count": null,
      "outputs": [
        {
          "output_type": "execute_result",
          "data": {
            "text/plain": [
              "1.7320508075688772"
            ]
          },
          "metadata": {},
          "execution_count": 17
        }
      ]
    },
    {
      "cell_type": "code",
      "source": [
        "2**5\n"
      ],
      "metadata": {
        "colab": {
          "base_uri": "https://localhost:8080/"
        },
        "id": "X0Cdwix7c1hR",
        "outputId": "34698744-198d-4d51-8d68-8af0335ac46f"
      },
      "execution_count": null,
      "outputs": [
        {
          "output_type": "execute_result",
          "data": {
            "text/plain": [
              "32"
            ]
          },
          "metadata": {},
          "execution_count": 10
        }
      ]
    },
    {
      "cell_type": "code",
      "source": [
        "1/3"
      ],
      "metadata": {
        "colab": {
          "base_uri": "https://localhost:8080/"
        },
        "id": "8DyQcOmydC9B",
        "outputId": "5d3869e7-40f1-47dd-b796-0cea77f8f814"
      },
      "execution_count": null,
      "outputs": [
        {
          "output_type": "execute_result",
          "data": {
            "text/plain": [
              "0.3333333333333333"
            ]
          },
          "metadata": {},
          "execution_count": 11
        }
      ]
    },
    {
      "cell_type": "code",
      "source": [
        "5==2"
      ],
      "metadata": {
        "colab": {
          "base_uri": "https://localhost:8080/"
        },
        "id": "W2Gd8sMtdkeB",
        "outputId": "7093b5bb-1e07-4e15-f785-7f988ca4894b"
      },
      "execution_count": null,
      "outputs": [
        {
          "output_type": "execute_result",
          "data": {
            "text/plain": [
              "False"
            ]
          },
          "metadata": {},
          "execution_count": 12
        }
      ]
    },
    {
      "cell_type": "markdown",
      "source": [
        "----"
      ],
      "metadata": {
        "id": "p4P8hxcBvCGo"
      }
    },
    {
      "cell_type": "markdown",
      "source": [
        "**Trabajo encargado**"
      ],
      "metadata": {
        "id": "S2DaSgK3vDz-"
      }
    },
    {
      "cell_type": "markdown",
      "source": [
        "1. Cree una función que permita Ingresar el radio $r$ y la altura $h$ de un cilindro circular recto y que retorne su area de la superficie ($A=2 \\pi rh+ 2 \\pi r^2$) y su volumen ($V= \\pi r^2 h$)\n",
        "\n",
        "2. Cree una función que permita Ingresar la base mayor($B$), base menor($b$) y la altura($h$) de un trapecio y hallar su area\n",
        "\n",
        "3. Cree una función que permita calcular\n",
        "\n",
        "$$\\sum_{i=k}^{i=m}a_i=a_{k} +a_{k+1}+\\dots+a_m$$\n",
        "\n",
        "4. Cree una funcion que permita calcular\n",
        "\n",
        "$$\\sum_{d \\geq 1 \\\\ d|n}d= Suma \\ de  \\ los \\ enteros \\ positivos \\ d \\ tales \\  que \\ d|n$$\n",
        "\n",
        "- **Ejemplo:**\n",
        "\n",
        "$$\\sum_{d \\geq 1 \\\\ d|6}d= Suma \\ de  \\ los \\ enteros \\ positivos \\ d \\ tales \\  que \\ d|6$$\n",
        "\n",
        "$$\\sum_{d \\geq 1 \\\\ d|6}d=1+2+3+6=12$$"
      ],
      "metadata": {
        "id": "uzookDfzvHwX"
      }
    },
    {
      "cell_type": "markdown",
      "source": [
        "Ejercicio 1:"
      ],
      "metadata": {
        "id": "CUlCsyle_4ZP"
      }
    },
    {
      "cell_type": "code",
      "source": [
        "def cilindro(r,h):\n",
        "  area=(2*3.14*r*h)+(2*3.14*r**2)\n",
        "  volumen=3.14*r**2*h\n",
        "  return area, volumen"
      ],
      "metadata": {
        "id": "O78RFHtx8Occ"
      },
      "execution_count": null,
      "outputs": []
    },
    {
      "cell_type": "code",
      "source": [
        "c=cilindro(2,3)\n",
        "print('El area y volumen son: ',c)"
      ],
      "metadata": {
        "colab": {
          "base_uri": "https://localhost:8080/"
        },
        "id": "OPYb8zrH_Emm",
        "outputId": "d4ec6814-e8e0-4434-e820-659b3209188d"
      },
      "execution_count": null,
      "outputs": [
        {
          "output_type": "stream",
          "name": "stdout",
          "text": [
            "El area y volumen son:  (62.8, 37.68)\n"
          ]
        }
      ]
    },
    {
      "cell_type": "markdown",
      "source": [
        "Ejercicio 2:"
      ],
      "metadata": {
        "id": "KxwD0MTu_9NY"
      }
    },
    {
      "cell_type": "code",
      "source": [
        "def trapecio(B,b,h):\n",
        "  area=(B+b)/2*h\n",
        "  return area"
      ],
      "metadata": {
        "id": "tL89AEH7__Do"
      },
      "execution_count": null,
      "outputs": []
    },
    {
      "cell_type": "code",
      "source": [
        "t=trapecio(5,2,4)\n",
        "print('area del trapecio es: ',t)"
      ],
      "metadata": {
        "colab": {
          "base_uri": "https://localhost:8080/"
        },
        "id": "W85QMSftAgMS",
        "outputId": "8c374519-47b4-41c2-f116-55a77aed41a7"
      },
      "execution_count": null,
      "outputs": [
        {
          "output_type": "stream",
          "name": "stdout",
          "text": [
            "area del trapecio es:  14.0\n"
          ]
        }
      ]
    },
    {
      "cell_type": "markdown",
      "source": [
        "Ejercicio 3:"
      ],
      "metadata": {
        "id": "nKOm7nJGA9_3"
      }
    },
    {
      "cell_type": "code",
      "source": [
        "def sumatoria(k,m):\n",
        "  suma=0\n",
        "  for numero in range(k,m+1):\n",
        "    suma+=numero\n",
        "  return suma"
      ],
      "metadata": {
        "id": "4uIRNb9pBHN3"
      },
      "execution_count": null,
      "outputs": []
    },
    {
      "cell_type": "code",
      "source": [
        "sum = sumatoria(0,5)\n",
        "print(sum)"
      ],
      "metadata": {
        "colab": {
          "base_uri": "https://localhost:8080/"
        },
        "id": "BtCVQ31-Cr82",
        "outputId": "5532e7bb-04bd-4395-d707-40e589369714"
      },
      "execution_count": null,
      "outputs": [
        {
          "output_type": "stream",
          "name": "stdout",
          "text": [
            "15\n"
          ]
        }
      ]
    },
    {
      "cell_type": "markdown",
      "source": [
        "Ejercicio 4:"
      ],
      "metadata": {
        "id": "IceYUxvTFFWK"
      }
    },
    {
      "cell_type": "code",
      "source": [
        "def divisores(d,n):\n",
        "  suma=0\n",
        "  for numero in range(d,n+1):\n",
        "    if (n%numero) == 0:\n",
        "      suma+=numero\n",
        "  return suma"
      ],
      "metadata": {
        "id": "uaAEuItiFEyw"
      },
      "execution_count": null,
      "outputs": []
    },
    {
      "cell_type": "code",
      "source": [
        "init=1\n",
        "fin=6\n",
        "if init>0:\n",
        "  print(divisores(init, fin))\n",
        "else:\n",
        "  print('su indice menor tiene que ser mayor a 0')"
      ],
      "metadata": {
        "colab": {
          "base_uri": "https://localhost:8080/"
        },
        "id": "4agDAXDqHZcI",
        "outputId": "1870ced5-c498-4406-ba8b-ac57229c294d"
      },
      "execution_count": null,
      "outputs": [
        {
          "output_type": "stream",
          "name": "stdout",
          "text": [
            "12\n"
          ]
        }
      ]
    }
  ]
}